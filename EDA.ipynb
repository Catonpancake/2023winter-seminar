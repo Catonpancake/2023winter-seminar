{
 "cells": [
  {
   "cell_type": "code",
   "execution_count": 1,
   "id": "27aa14f4",
   "metadata": {},
   "outputs": [],
   "source": [
    "import numpy as np\n",
    "import pandas as pd\n",
    "import torch\n",
    "from torch.utils.data import Dataset\n",
    "\n",
    "import matplotlib.pyplot as plt\n",
    "import seaborn as sns"
   ]
  },
  {
   "cell_type": "markdown",
   "id": "f7bb60b5",
   "metadata": {},
   "source": [
    "### Data Loader"
   ]
  },
  {
   "cell_type": "code",
   "execution_count": 2,
   "id": "641a9749",
   "metadata": {},
   "outputs": [],
   "source": [
    "trainfile = pd.read_csv('digit-recognizer/train.csv')\n",
    "# trainimg = [np.reshape(row[1].values,(28,28)) for row in trainfile.drop(columns=['label']).iterrows()]\n",
    "trainimg = [(row[1].values[0], np.reshape(row[1].values[1:],(28,28))) for row in trainfile.iterrows()]\n"
   ]
  },
  {
   "cell_type": "code",
   "execution_count": 3,
   "id": "ec03e972",
   "metadata": {},
   "outputs": [
    {
     "data": {
      "image/png": "[encoded data removed]",
      "text/plain": [
       "<Figure size 640x480 with 1 Axes>"
      ]
     },
     "metadata": {},
     "output_type": "display_data"
    }
   ],
   "source": [
    "for img in trainimg:\n",
    "#     print(img[1])\n",
    "#     break\n",
    "    plt.title(img[0])\n",
    "    plt.imshow(img[1])\n",
    "    break\n",
    "\n"
   ]
  },
  {
   "cell_type": "code",
   "execution_count": null,
   "id": "fb997330",
   "metadata": {},
   "outputs": [],
   "source": [
    "class DigitDataset(Dataset):\n",
    "    def __init__(self, file, img_dir, transform=None, target_transform=None):\n",
    "        # self.img_labels = pd.read_csv(img_dir)['label']\n",
    "        self.img_dir = img_dir\n",
    "        self.transform = transform\n",
    "        self.target_transform = target_transform\n",
    "        \n",
    "    def __len__(self):\n",
    "        return len(self.img_label)\n",
    "    \n",
    "    def __getitem__(self,idx):\n",
    "        # img_path = os.path.join(self.img_dir, self.img_labels.iloc[idx, 0])\n",
    "        # image = read_image(img_path)\n",
    "        # label = self.img_labels.iloc[idx, 1]\n",
    "        # if self.transform:\n",
    "        #     image = self.transform(image)\n",
    "        # if self.target_transform:\n",
    "        #     label = self.target_transform(label)\n",
    "        # return image, label"
   ]
  },
  {
   "cell_type": "code",
   "execution_count": null,
   "id": "35cdca70",
   "metadata": {},
   "outputs": [],
   "source": []
  }
 ],
 "metadata": {
  "kernelspec": {
   "display_name": "digitrec",
   "language": "python",
   "name": "python3"
  },
  "language_info": {
   "codemirror_mode": {
    "name": "ipython",
    "version": 3
   },
   "file_extension": ".py",
   "mimetype": "text/x-python",
   "name": "python",
   "nbconvert_exporter": "python",
   "pygments_lexer": "ipython3",
   "version": "3.10.9 | packaged by conda-forge | (main, Jan 11 2023, 15:15:40) [MSC v.1916 64 bit (AMD64)]"
  },
  "vscode": {
   "interpreter": {
    "hash": "1020d1a9d541aad9b67b451a35c4d98a94cae22a710bd97cf925e546aca35e15"
   }
  }
 },
 "nbformat": 4,
 "nbformat_minor": 5
}
